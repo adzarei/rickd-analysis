{
 "cells": [
  {
   "cell_type": "code",
   "execution_count": null,
   "metadata": {
    "vscode": {
     "languageId": "plaintext"
    }
   },
   "outputs": [],
   "source": []
  },
  {
   "cell_type": "code",
   "execution_count": null,
   "metadata": {},
   "outputs": [],
   "source": [
    "import pandas as pd\n",
    "import os\n",
    "from core.constants import RICKD_RUNNING_METADATA_CLEANED_FILE, RICKD_SOURCE_DATA_FOLDER, RICKD_PROCESSED_DATA_FOLDER\n",
    "\n",
    "run_data_meta_cleaned = pd.read_csv(RICKD_RUNNING_METADATA_CLEANED_FILE)\n",
    "SUBJECT_ID_WITH_MULTIPLE_SESSIONS = 200267\n",
    "OTHER_SUBJECT_ID = 100777\n",
    "\n",
    "subj_1_sessions = run_data_meta_cleaned[run_data_meta_cleaned['sub_id'] == SUBJECT_ID_WITH_MULTIPLE_SESSIONS]\n",
    "display(subj_1_sessions)\n",
    "subj_2_sessions = run_data_meta_cleaned[run_data_meta_cleaned['sub_id'] == OTHER_SUBJECT_ID]\n",
    "display(subj_2_sessions)"
   ]
  }
 ],
 "metadata": {
  "language_info": {
   "name": "python"
  }
 },
 "nbformat": 4,
 "nbformat_minor": 2
}
