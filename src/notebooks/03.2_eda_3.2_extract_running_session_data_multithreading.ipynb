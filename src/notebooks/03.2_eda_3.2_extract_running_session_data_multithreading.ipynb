{
 "cells": [
  {
   "cell_type": "markdown",
   "metadata": {},
   "source": [
    "# Second attempt at extracting running session data\n",
    "\n",
    "In this second attempt, we want to make the processs more efficient and use multithreading."
   ]
  },
  {
   "cell_type": "code",
   "execution_count": 1,
   "metadata": {},
   "outputs": [],
   "source": [
    "import core.constants as c\n",
    "import os\n",
    "import pandas as pd\n",
    "from collections import defaultdict\n",
    "import concurrent.futures\n",
    "from typing import List\n",
    "\n",
    "\n",
    "run_data_meta_cleaned = pd.read_csv(c.RICKD_RUNNING_METADATA_CLEANED_FILE)"
   ]
  },
  {
   "cell_type": "code",
   "execution_count": 5,
   "metadata": {},
   "outputs": [
    {
     "data": {
      "application/vnd.jupyter.widget-view+json": {
       "model_id": "5f3112db6032461291e36510b4a2b5cf",
       "version_major": 2,
       "version_minor": 0
      },
      "text/plain": [
       "  0%|          | 0/1832 [00:03<?, ?it/s]"
      ]
     },
     "metadata": {},
     "output_type": "display_data"
    },
    {
     "name": "stdout",
     "output_type": "stream",
     "text": [
      "--- 3158.9457201957703 seconds ---\n"
     ]
    }
   ],
   "source": [
    "from tqdm.notebook import tqdm\n",
    "from functools import partial\n",
    "\n",
    "from core.processing import process_row, SessionData\n",
    "rows = list(run_data_meta_cleaned.iterrows())\n",
    "\n",
    "process_row_with_folder = partial(process_row, source_data_folder=c.RICKD_SOURCE_DATA_FOLDER)\n",
    "\n",
    "\n",
    "with concurrent.futures.ThreadPoolExecutor(max_workers=16) as executor:\n",
    "    results: List[SessionData] = list(tqdm(executor.map(process_row_with_folder, rows), total=len(rows)))"
   ]
  },
  {
   "cell_type": "code",
   "execution_count": 6,
   "metadata": {},
   "outputs": [],
   "source": [
    "descriptive_variables = pd.DataFrame([s.desc_variables for s in results])\n",
    "marker_centers = pd.DataFrame([s.marker_center_data for s in results])\n",
    "print(f\"descriptive_variables.shape: {descriptive_variables.shape}\")\n",
    "print(f\"marker_centers.shape: {marker_centers.shape}\")\n",
    "descriptive_variables.to_csv(os.path.join(c.RICKD_PROCESSED_DATA_FOLDER, \"descriptive_variables.csv\"))\n",
    "marker_centers.to_csv(os.path.join(c.RICKD_PROCESSED_DATA_FOLDER, \"marker_centers.csv\"))"
   ]
  },
  {
   "cell_type": "code",
   "execution_count": null,
   "metadata": {},
   "outputs": [],
   "source": [
    "marker_data_by_freq = defaultdict(list)\n",
    "for s in results:\n",
    "    freq = int(s.session_hz)\n",
    "    df = pd.DataFrame.from_dict(s.marker_data)\n",
    "    marker_data_by_freq[freq].append(df)\n",
    "\n",
    "combined_marker_data_by_freq = {}\n",
    "for freq, dfs in marker_data_by_freq.items():\n",
    "    combined_marker_data_by_freq[freq] = pd.concat(dfs)\n",
    "    print(f\"marker_data_{freq:03d}hz.shape: {combined_marker_data_by_freq[freq].shape}\")"
   ]
  },
  {
   "cell_type": "code",
   "execution_count": 9,
   "metadata": {},
   "outputs": [],
   "source": [
    "for freq, df in combined_marker_data_by_freq.items():\n",
    "    df.to_csv(os.path.join(c.RICKD_PROCESSED_DATA_FOLDER, f\"marker_data_{freq:03d}hz.csv\"))"
   ]
  }
 ],
 "metadata": {
  "kernelspec": {
   "display_name": "Python 3 (ipykernel)",
   "language": "python",
   "name": "python3"
  },
  "language_info": {
   "codemirror_mode": {
    "name": "ipython",
    "version": 3
   },
   "file_extension": ".py",
   "mimetype": "text/x-python",
   "name": "python",
   "nbconvert_exporter": "python",
   "pygments_lexer": "ipython3",
   "version": "3.11.11"
  }
 },
 "nbformat": 4,
 "nbformat_minor": 4
}
