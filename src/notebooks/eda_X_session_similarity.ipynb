{
 "cells": [
  {
   "cell_type": "markdown",
   "metadata": {},
   "source": [
    "# First attempt at comparing multiple session data as a Time Series problem"
   ]
  },
  {
   "cell_type": "code",
   "execution_count": null,
   "metadata": {},
   "outputs": [],
   "source": [
    "import pandas as pd\n",
    "import os\n",
    "from core.constants import RICKD_RUNNING_METADATA_CLEANED_FILE, RICKD_SOURCE_DATA_FOLDER, RICKD_PROCESSED_DATA_FOLDER, RICKD_SESSION_DATA_FULL_FILE\n",
    "\n",
    "run_data_meta_cleaned = pd.read_csv(RICKD_SESSION_DATA_FULL_FILE)\n",
    "SUBJECT_ID_WITH_MULTIPLE_SESSIONS = 200267\n",
    "OTHER_SUBJECT_ID = 100777\n",
    "\n",
    "subj_1_sessions = run_data_meta_cleaned[run_data_meta_cleaned['sub_id'] == SUBJECT_ID_WITH_MULTIPLE_SESSIONS]\n",
    "display(subj_1_sessions)\n",
    "subj_2_sessions = run_data_meta_cleaned[run_data_meta_cleaned['sub_id'] == OTHER_SUBJECT_ID]\n",
    "display(subj_2_sessions)"
   ]
  },
  {
   "cell_type": "code",
   "execution_count": null,
   "metadata": {},
   "outputs": [],
   "source": []
  }
 ],
 "metadata": {
  "language_info": {
   "name": "python"
  }
 },
 "nbformat": 4,
 "nbformat_minor": 2
}
