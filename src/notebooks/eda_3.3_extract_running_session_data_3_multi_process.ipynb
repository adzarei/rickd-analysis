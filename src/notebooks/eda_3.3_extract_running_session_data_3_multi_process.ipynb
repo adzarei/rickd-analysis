{
 "cells": [
  {
   "cell_type": "markdown",
   "metadata": {},
   "source": [
    "# Third attempt at extracting running session data\n",
    "\n",
    "In this second attempt, we want to us multi processing."
   ]
  },
  {
   "cell_type": "code",
   "execution_count": 1,
   "metadata": {},
   "outputs": [],
   "source": [
    "import core.constants as c\n",
    "import os\n",
    "import pandas as pd\n",
    "from collections import defaultdict\n",
    "from typing import List\n",
    "\n",
    "\n",
    "run_data_meta_cleaned = pd.read_csv(c.RICKD_RUNNING_METADATA_CLEANED_FILE)"
   ]
  },
  {
   "cell_type": "code",
   "execution_count": 3,
   "metadata": {},
   "outputs": [
    {
     "data": {
      "application/vnd.jupyter.widget-view+json": {
       "model_id": "9792d4bea43347cd93da6e8c98486022",
       "version_major": 2,
       "version_minor": 0
      },
      "text/plain": [
       "  0%|          | 0/1832 [00:00<?, ?it/s]"
      ]
     },
     "metadata": {},
     "output_type": "display_data"
    }
   ],
   "source": [
    "from core.processing import process_row, SessionData\n",
    "from tqdm.notebook import tqdm\n",
    "from functools import partial\n",
    "import concurrent.futures\n",
    "import multiprocessing\n",
    "\n",
    "process_row_with_folder = partial(process_row, source_data_folder=c.RICKD_SOURCE_DATA_FOLDER)\n",
    "\n",
    "\n",
    "rows = list(run_data_meta_cleaned.iterrows())\n",
    "\n",
    "# Use spawn method for better compatibility\n",
    "if __name__ == '__main__':\n",
    "    multiprocessing.set_start_method('spawn', force=True)\n",
    "\n",
    "with concurrent.futures.ProcessPoolExecutor(max_workers=multiprocessing.cpu_count()) as executor:\n",
    "    results: List[SessionData] = list(tqdm(\n",
    "        executor.map(process_row_with_folder, rows),\n",
    "        total=len(rows)\n",
    "    ))"
   ]
  },
  {
   "cell_type": "code",
   "execution_count": 7,
   "metadata": {},
   "outputs": [
    {
     "name": "stdout",
     "output_type": "stream",
     "text": [
      "descriptive_variables.shape: (1832, 155)\n",
      "marker_centers.shape: (1832, 135)\n"
     ]
    }
   ],
   "source": [
    "\n",
    "\n",
    "descriptive_variables = pd.DataFrame([s.desc_variables for s in results])\n",
    "marker_centers = pd.DataFrame([s.marker_center_data for s in results])\n",
    "print(f\"descriptive_variables.shape: {descriptive_variables.shape}\")\n",
    "print(f\"marker_centers.shape: {marker_centers.shape}\")\n",
    "descriptive_variables.to_csv(os.path.join(c.RICKD_PROCESSED_DATA_FOLDER, \"descriptive_variables.csv\"))\n",
    "marker_centers.to_csv(os.path.join(c.RICKD_PROCESSED_DATA_FOLDER, \"marker_centers.csv\"))"
   ]
  },
  {
   "cell_type": "code",
   "execution_count": null,
   "metadata": {},
   "outputs": [],
   "source": [
    "marker_data_by_freq = defaultdict(list)\n",
    "for s in results:\n",
    "    freq = int(s.session_hz)\n",
    "    df = pd.DataFrame.from_dict(s.marker_data)\n",
    "    marker_data_by_freq[freq].append(df)\n",
    "\n",
    "combined_marker_data_by_freq = {}\n",
    "for freq, dfs in marker_data_by_freq.items():\n",
    "    combined_marker_data_by_freq[freq] = pd.concat(dfs)\n",
    "    print(f\"marker_data_{freq:03d}hz.shape: {combined_marker_data_by_freq[freq].shape}\")"
   ]
  },
  {
   "cell_type": "code",
   "execution_count": null,
   "metadata": {},
   "outputs": [],
   "source": [
    "for freq, df in combined_marker_data_by_freq.items():\n",
    "    df.to_csv(os.path.join(c.RICKD_PROCESSED_DATA_FOLDER, f\"marker_data_{freq:03d}hz.csv\"))"
   ]
  }
 ],
 "metadata": {
  "kernelspec": {
   "display_name": ".venv",
   "language": "python",
   "name": "python3"
  },
  "language_info": {
   "codemirror_mode": {
    "name": "ipython",
    "version": 3
   },
   "file_extension": ".py",
   "mimetype": "text/x-python",
   "name": "python",
   "nbconvert_exporter": "python",
   "pygments_lexer": "ipython3",
   "version": "3.11.11"
  }
 },
 "nbformat": 4,
 "nbformat_minor": 4
}
